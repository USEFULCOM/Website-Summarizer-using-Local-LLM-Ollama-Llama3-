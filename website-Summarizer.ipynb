{
 "cells": [
  {
   "cell_type": "markdown",
   "id": "6a83b76b",
   "metadata": {},
   "source": [
    "# Website summariser using ollama locally (Static websites only)\n",
    "\n"
   ]
  },
  {
   "cell_type": "code",
   "execution_count": null,
   "id": "779c25dc",
   "metadata": {},
   "outputs": [],
   "source": [
    "import os\n",
    "import requests\n",
    "from dotenv import load_dotenv\n",
    "from bs4 import BeautifulSoup\n",
    "from IPython.display import Markdown, display\n",
    "import ollama"
   ]
  },
  {
   "cell_type": "markdown",
   "id": "c405fb12",
   "metadata": {},
   "source": [
    "## 1. SCRAPING AND CLEANING THE WEBSITE CONTENT\n",
    "\n"
   ]
  },
  {
   "cell_type": "code",
   "execution_count": null,
   "id": "595ce289",
   "metadata": {},
   "outputs": [],
   "source": [
    "headers = {\n",
    " \"User-Agent\": \"Mozilla/5.0 (Windows NT 10.0; Win64; x64) AppleWebKit/537.36 (KHTML, like Gecko) Chrome/117.0.0.0 Safari/537.36\"\n",
    "}\n",
    "\n",
    "class Website:\n",
    "\n",
    "    def __init__(self, url):\n",
    "        \"\"\"\n",
    "        Create this Website object from the given url using the BeautifulSoup library\n",
    "        \"\"\"\n",
    "        self.url = url\n",
    "        response = requests.get(url, headers=headers)\n",
    "        soup = BeautifulSoup(response.content, 'html.parser')\n",
    "        self.title = soup.title.string if soup.title else \"No title found\"\n",
    "        for irrelevant in soup.body([\"script\", \"style\", \"img\", \"input\"]):\n",
    "            irrelevant.decompose()\n",
    "        self.text = soup.body.get_text(separator=\"\\n\", strip=True)\n",
    "\n",
    "'''\n",
    "Short Hinglish Summary\n",
    "\n",
    "1. headers → website ko bewakoof banake dikhata hai ki hum browser hai, bot nahi.\n",
    "\n",
    "Website class:\n",
    "2. URL store karta hai.\n",
    "3. Page fetch karta hai (requests.get).\n",
    "4. HTML parse karta hai (BeautifulSoup).\n",
    "5. Title nikalta hai.\n",
    "6. Unwanted tags (script, style, images) hataata hai.\n",
    "7. Pure readable text save karta hai.\n",
    "        \n",
    "'''"
   ]
  },
  {
   "cell_type": "code",
   "execution_count": null,
   "id": "3989b7e0",
   "metadata": {},
   "outputs": [],
   "source": [
    "yo = Website(\"https://www.moneycontrol.com/news/business/markets/trade-setup-for-september-12-top-15-things-to-know-before-the-opening-bells-13540563.html\")\n",
    "print(yo.title)\n",
    "print(yo.text)"
   ]
  },
  {
   "cell_type": "markdown",
   "id": "900b2309",
   "metadata": {},
   "source": [
    "## 2. MAKING FUNCTION FOR USER AND SYSTEM PROMPTS"
   ]
  },
  {
   "cell_type": "code",
   "execution_count": null,
   "id": "c9819fc0",
   "metadata": {},
   "outputs": [],
   "source": [
    "system_prompt = \"You are an assistant that analyzes the contents of a website \\\n",
    "and provides a short summary, ignoring text that might be navigation related. \\\n",
    "Respond in markdown.\"\n",
    "\n",
    "def user_prompt_for(website):\n",
    "    user_prompt = f\"You are looking at a website titled {website.title}\"\n",
    "    user_prompt += \"\\nThe contents of this website is as follows; \\\n",
    "please provide a short summary of this website in markdown. \\\n",
    "If it includes news or announcements, then summarize these too.\\n\\n\"\n",
    "    user_prompt += website.text\n",
    "    return user_prompt"
   ]
  },
  {
   "cell_type": "markdown",
   "id": "bae68d77",
   "metadata": {},
   "source": [
    "## 🔑 Core Difference between user_prompt_for() and messages_for()\n",
    "\n",
    "Soch lo:\n",
    "User kya bolega? → user_prompt_for()\n",
    "\n",
    "Ab isko system ke sath package karo → messages_for()"
   ]
  },
  {
   "cell_type": "code",
   "execution_count": null,
   "id": "e2cedff3",
   "metadata": {},
   "outputs": [],
   "source": [
    "def messages_for(website):\n",
    "    return [\n",
    "        {\"role\": \"system\", \"content\": system_prompt},\n",
    "        {\"role\": \"user\", \"content\": user_prompt_for(website)}\n",
    "    ]"
   ]
  },
  {
   "cell_type": "markdown",
   "id": "6154d609",
   "metadata": {},
   "source": [
    "## 3. Calling ollama to summarize text\n"
   ]
  },
  {
   "cell_type": "code",
   "execution_count": null,
   "id": "3ad38c1b",
   "metadata": {},
   "outputs": [],
   "source": [
    "def summarize(url):\n",
    "    website = Website(url)\n",
    "    response = ollama.chat(model=\"llama3.2\", messages=messages_for(website))\n",
    "    return response['message']['content']"
   ]
  },
  {
   "cell_type": "code",
   "execution_count": null,
   "id": "99ab7234",
   "metadata": {},
   "outputs": [],
   "source": [
    "summarize(\"https://www.moneycontrol.com/news/business/markets/trade-setup-for-september-12-top-15-things-to-know-before-the-opening-bells-13540563.html\")"
   ]
  },
  {
   "cell_type": "markdown",
   "id": "2ffa0241",
   "metadata": {},
   "source": [
    "## Optional : A function to display this nicely in the Jupyter output, using markdown"
   ]
  },
  {
   "cell_type": "code",
   "execution_count": null,
   "id": "32efd958",
   "metadata": {},
   "outputs": [],
   "source": [
    "def display_summary(url):\n",
    "    summary = summarize(url)\n",
    "    display(Markdown(summary))\n",
    "    "
   ]
  },
  {
   "cell_type": "code",
   "execution_count": null,
   "id": "b66868e3",
   "metadata": {},
   "outputs": [],
   "source": [
    "display_summary(\"https://www.moneycontrol.com/news/business/markets/trade-setup-for-september-12-top-15-things-to-know-before-the-opening-bells-13540563.html\")"
   ]
  }
 ],
 "metadata": {
  "kernelspec": {
   "display_name": "llms",
   "language": "python",
   "name": "python3"
  },
  "language_info": {
   "codemirror_mode": {
    "name": "ipython",
    "version": 3
   },
   "file_extension": ".py",
   "mimetype": "text/x-python",
   "name": "python",
   "nbconvert_exporter": "python",
   "pygments_lexer": "ipython3",
   "version": "3.11.13"
  }
 },
 "nbformat": 4,
 "nbformat_minor": 5
}
